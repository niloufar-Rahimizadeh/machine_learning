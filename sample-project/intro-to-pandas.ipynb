{
 "cells": [
  {
   "cell_type": "code",
   "execution_count": 1,
   "id": "d5b14e34",
   "metadata": {},
   "outputs": [],
   "source": [
    "import pandas as pd"
   ]
  },
  {
   "cell_type": "code",
   "execution_count": 2,
   "id": "7a85145e",
   "metadata": {},
   "outputs": [],
   "source": [
    "# series 1-dimensional\n",
    "colors = pd.Series([\"pink\", \"white\", \"orange\"])"
   ]
  },
  {
   "cell_type": "code",
   "execution_count": 3,
   "id": "9a331fd8",
   "metadata": {},
   "outputs": [
    {
     "data": {
      "text/plain": [
       "0      pink\n",
       "1     white\n",
       "2    orange\n",
       "dtype: object"
      ]
     },
     "execution_count": 3,
     "metadata": {},
     "output_type": "execute_result"
    }
   ],
   "source": [
    "colors"
   ]
  },
  {
   "cell_type": "code",
   "execution_count": 4,
   "id": "e15adb76",
   "metadata": {},
   "outputs": [],
   "source": [
    "# DataFrame = 2-dimensional"
   ]
  },
  {
   "cell_type": "code",
   "execution_count": 5,
   "id": "fc823ae8",
   "metadata": {},
   "outputs": [
    {
     "data": {
      "text/plain": [
       "0       BMW\n",
       "1    Toyota\n",
       "2     Honda\n",
       "dtype: object"
      ]
     },
     "execution_count": 5,
     "metadata": {},
     "output_type": "execute_result"
    }
   ],
   "source": [
    "series = pd.Series([\"BMW\", \"Toyota\", \"Honda\"])\n",
    "series"
   ]
  },
  {
   "cell_type": "code",
   "execution_count": null,
   "id": "4c9762b7",
   "metadata": {},
   "outputs": [],
   "source": [
    "car_data = pd.DataFrame({\"car_make\" : series; \"color\"})"
   ]
  }
 ],
 "metadata": {
  "kernelspec": {
   "display_name": "Python 3 (ipykernel)",
   "language": "python",
   "name": "python3"
  },
  "language_info": {
   "codemirror_mode": {
    "name": "ipython",
    "version": 3
   },
   "file_extension": ".py",
   "mimetype": "text/x-python",
   "name": "python",
   "nbconvert_exporter": "python",
   "pygments_lexer": "ipython3",
   "version": "3.8.10"
  }
 },
 "nbformat": 4,
 "nbformat_minor": 5
}
